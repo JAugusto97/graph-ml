{
 "cells": [
  {
   "cell_type": "markdown",
   "metadata": {},
   "source": [
    "# Node Embeddings"
   ]
  },
  {
   "cell_type": "markdown",
   "metadata": {},
   "source": [
    "<b> Recap </b>\n",
    "\n",
    "Previously we discussed traditional feature based methods for graph ML, where given a graph G = (V,E) we wanted to extract node, link and graph-level features and learn a model (svm, logistic regressor, etc.) that maps features to labels.\n",
    "\n",
    "Input Graph -> Feature Engineering -> Learning Algorithm -> Prediction\n",
    "\n",
    "<b> Now </b>\n",
    "\n",
    "With <b>Representation Learning</b> we automatically learn the features, without needing to manually construct the features as we did before (feature engineering). \n",
    "\n",
    "<b> Goal </b>\n",
    "\n",
    "Efficient task-independent feature learning for machine learning with graphs"
   ]
  },
  {
   "cell_type": "markdown",
   "metadata": {},
   "source": [
    "## Why Embeddings?"
   ]
  },
  {
   "cell_type": "markdown",
   "metadata": {},
   "source": [
    "<b>Task:</b> map nodes into an embedding space\n",
    "\n",
    "* Similarity of embeddings between nodes indicates their similarity in the network.\n",
    "* Encode network information\n",
    "* Potentially used for many downstream prediction tasks such as node classification, link prediction, graph classification, anomalous node detection, clustering, etc."
   ]
  },
  {
   "cell_type": "markdown",
   "metadata": {},
   "source": [
    "## Embedding Nodes"
   ]
  },
  {
   "cell_type": "markdown",
   "metadata": {},
   "source": [
    "<b>Goal:</b> Find an encoder function such that, when nodes u and v are encoded to the embedding space, the following assumption is true:\n",
    "the similarity between nodes u and v in the network is close to the similarity of the embedding representation of u and v in embedding space.\n",
    "\n",
    "similarity(u,v) ~ z_v.T @ z_u\n",
    "\n",
    "1. Encoder maps nodes to embeddings: Encoder(u) -> z_u.\n",
    "2. Define a similarity function for the original network.\n",
    "3. Decoder maps from embeddings to the embedding similarity score: dot preduct.\n",
    "4. Optimize the parameters such that similarity(u,v) ~ decoder(encoder(u), encoder(v)).\n",
    "\n"
   ]
  },
  {
   "cell_type": "markdown",
   "metadata": {},
   "source": []
  }
 ],
 "metadata": {
  "kernelspec": {
   "display_name": "Python 3.8.2 64-bit",
   "language": "python",
   "name": "python3"
  },
  "language_info": {
   "name": "python",
   "version": "3.8.2"
  },
  "orig_nbformat": 4,
  "vscode": {
   "interpreter": {
    "hash": "916dbcbb3f70747c44a77c7bcd40155683ae19c65e1c03b4aa3499c5328201f1"
   }
  }
 },
 "nbformat": 4,
 "nbformat_minor": 2
}
