{
 "cells": [
  {
   "cell_type": "code",
   "execution_count": 3,
   "metadata": {},
   "outputs": [],
   "source": [
    "import networkx as nx\n",
    "import matplotlib.pyplot as plt"
   ]
  },
  {
   "cell_type": "markdown",
   "metadata": {},
   "source": [
    "## Basics\n",
    "A graph is a structure composed of vertices (or nodes) and edges. It is useful to represent relations between entities (e.g. friendships in social networks). Both nodes and edges can contain arbitrary attributes. In the context of a social network, nodes can represent users and hold attributes such as username, profile description, image and so on. Edges can represent a relationship between two users and contain data such as the starting date of the relationship."
   ]
  },
  {
   "cell_type": "markdown",
   "metadata": {},
   "source": [
    "<b> Directed Graphs </b>\n",
    "\n",
    "Edges represent unidirectional relationships such as twitter followers. User A following user B not necessarily means that user B also follows user A."
   ]
  },
  {
   "cell_type": "code",
   "execution_count": 4,
   "metadata": {},
   "outputs": [
    {
     "data": {
      "text/plain": [
       "Text(0.5, 1.0, 'Directed Graph')"
      ]
     },
     "execution_count": 4,
     "metadata": {},
     "output_type": "execute_result"
    },
    {
     "data": {
      "image/png": "[encoded data removed]",
      "text/plain": [
       "<Figure size 432x288 with 1 Axes>"
      ]
     },
     "metadata": {},
     "output_type": "display_data"
    }
   ],
   "source": [
    "G = nx.DiGraph()\n",
    "G.add_node(0, username=\"person1\", description=\"an user\", image=\"dog.jpeg\")\n",
    "G.add_node(1, username=\"person2\", description=\"another user\", image=\"cat.jpeg\")\n",
    "G.add_edge(0, 1, starting_date=\"01-01-2022\")\n",
    "nx.draw(G, with_labels=True)\n",
    "plt.title(\"Directed Graph\")"
   ]
  },
  {
   "cell_type": "markdown",
   "metadata": {},
   "source": [
    "<b> Undirected Graphs </b>\n",
    "\n",
    "Edges represent bidirectional relationships such as facebook friendships. User A is friends with user B means both of them are friends at the same time."
   ]
  },
  {
   "cell_type": "code",
   "execution_count": 5,
   "metadata": {},
   "outputs": [
    {
     "data": {
      "text/plain": [
       "Text(0.5, 1.0, 'Undirected Graph')"
      ]
     },
     "execution_count": 5,
     "metadata": {},
     "output_type": "execute_result"
    },
    {
     "data": {
      "image/png": "[encoded data removed]",
      "text/plain": [
       "<Figure size 432x288 with 1 Axes>"
      ]
     },
     "metadata": {},
     "output_type": "display_data"
    }
   ],
   "source": [
    "G = nx.Graph()\n",
    "G.add_node(0, username=\"person1\", description=\"an user\", image=\"dog.jpeg\")\n",
    "G.add_node(1, username=\"person2\", description=\"another user\", image=\"cat.jpeg\")\n",
    "G.add_edge(0, 1, starting_date=\"01-01-2022\")\n",
    "nx.draw(G, with_labels=True)\n",
    "plt.title(\"Undirected Graph\")"
   ]
  },
  {
   "cell_type": "markdown",
   "metadata": {},
   "source": [
    "#### Other Types of Graphs"
   ]
  },
  {
   "cell_type": "markdown",
   "metadata": {},
   "source": [
    "<b>Multigraph</b>\n",
    "\n",
    "A pair of nodes u and v can contain multiple edges between themselves."
   ]
  },
  {
   "cell_type": "code",
   "execution_count": 6,
   "metadata": {},
   "outputs": [
    {
     "name": "stdout",
     "output_type": "stream",
     "text": [
      "Is G a multigraph? True\n",
      "Edges: [(0, 1, 0), (0, 1, 1)]\n"
     ]
    }
   ],
   "source": [
    "G = nx.MultiGraph()\n",
    "G.add_node(0, username=\"person1\", description=\"an user\", image=\"dog.jpeg\")\n",
    "G.add_node(1, username=\"person2\", description=\"another user\", image=\"cat.jpeg\")\n",
    "G.add_edge(0, 1, starting_date=\"01-01-2022\")\n",
    "G.add_edge(0, 1, type=\"friendship\")\n",
    "print(\"Is G a multigraph?\", G.is_multigraph())\n",
    "print(\"Edges:\", G.edges)"
   ]
  },
  {
   "cell_type": "markdown",
   "metadata": {},
   "source": [
    "\n",
    "<b> Bipartite Graphs </b>\n",
    "\n",
    "A graph whose nodes can be divided into multiple disjointed sets A and B such that every edge is always connecting a node\n",
    "from A to a node from B, never a node from A to another node from A or a node from B connecting another node from B. A and B\n",
    "are <b>independent</b> sets.\n"
   ]
  },
  {
   "cell_type": "code",
   "execution_count": 18,
   "metadata": {},
   "outputs": [
    {
     "name": "stdout",
     "output_type": "stream",
     "text": [
      "Is G bipartite? True\n",
      "Edges: [(0, 4), (1, 5), (2, 6), (3, 7)]\n",
      "Top Nodes: {0, 1, 2, 3}\n",
      "Bottom Nodes: {4, 5, 6, 7}\n"
     ]
    },
    {
     "data": {
      "text/plain": [
       "Text(0.5, 1.0, 'Bipartite Graph')"
      ]
     },
     "execution_count": 18,
     "metadata": {},
     "output_type": "execute_result"
    },
    {
     "data": {
      "image/png": "[encoded data removed]",
      "text/plain": [
       "<Figure size 432x288 with 1 Axes>"
      ]
     },
     "metadata": {},
     "output_type": "display_data"
    }
   ],
   "source": [
    "G = nx.Graph()\n",
    "G.add_nodes_from([0,1,2,3], bipartite=0)\n",
    "G.add_nodes_from([4,5,6,7], bipartite=1)\n",
    "G.add_edges_from([(0,4), (1,5), (2,6), (3,7)])\n",
    "\n",
    "print(\"Is G bipartite?\", nx.is_bipartite(G))\n",
    "print(\"Edges:\", G.edges)\n",
    "top_nodes = {node for node, attrs in G.nodes(data=True) if attrs[\"bipartite\"] == 0}\n",
    "bottom_nodes = set(G) - top_nodes\n",
    "\n",
    "print(\"Top Nodes:\", top_nodes)\n",
    "print(\"Bottom Nodes:\", bottom_nodes)\n",
    "\n",
    "nx.draw(G, with_labels=True)\n",
    "plt.title(\"Bipartite Graph\")"
   ]
  },
  {
   "cell_type": "markdown",
   "metadata": {},
   "source": [
    "## Graph Representation\n",
    "These are the most common and efficient ways of representing graphs computationally.\n",
    "\n",
    "<b>Adjacency Matrix</b>\n",
    "\n",
    "The graph is stored in a matrix M which rows and columns represent the nodes and each cell M[i][j]\n",
    "represents the edge between node i and node j. This approach is difficult to apply in large graphs because they tend to\n",
    "be <b>sparse</b> (a node is connected to a small fraction of the entire graph), meaning that despite using a matrix\n",
    "of size |V|ˆ2, only a small subset of the values will be different from zero.\n",
    "\n",
    "<b>Adjacency List</b>\n",
    "\n",
    "The graph is stored in a <b>linked list</b>. Each node points to a list of the nodes that are connected to itself (neighbors)."
   ]
  },
  {
   "cell_type": "code",
   "execution_count": 64,
   "metadata": {},
   "outputs": [
    {
     "name": "stdout",
     "output_type": "stream",
     "text": [
      "Matrix:\n",
      " [[0 1]\n",
      " [0 0]]\n",
      "Linked List:\n",
      " {0: {1: {'starting_date': '01-01-2022'}}, 1: {}}\n"
     ]
    },
    {
     "name": "stderr",
     "output_type": "stream",
     "text": [
      "/var/folders/gr/bzk4hy1x0mx2h904kggn7zm80000gn/T/ipykernel_56660/4146338515.py:1: FutureWarning: adjacency_matrix will return a scipy.sparse array instead of a matrix in Networkx 3.0.\n",
      "  print(\"Matrix:\\n\", nx.adjacency_matrix(G).todense())\n"
     ]
    }
   ],
   "source": [
    "print(\"Matrix:\\n\", nx.adjacency_matrix(G).todense())\n",
    "\n",
    "print(\"Linked List:\\n\", G.adj)  # adjacency view\n",
    "# next(iter(G.adjacency()))  # adjacency iterable"
   ]
  },
  {
   "cell_type": "code",
   "execution_count": 66,
   "metadata": {},
   "outputs": [
    {
     "data": {
      "text/plain": [
       "{'starting_date': '01-01-2022'}"
      ]
     },
     "execution_count": 66,
     "metadata": {},
     "output_type": "execute_result"
    }
   ],
   "source": [
    "## Graph Properties\n",
    "G.get_edge_data(0, 1)"
   ]
  },
  {
   "cell_type": "code",
   "execution_count": null,
   "metadata": {},
   "outputs": [],
   "source": [
    "G = nx.karate_club_graph()\n",
    "nx.draw(G, with_labels=True)\n",
    "print(\"Number of nodes:\", G.order())\n",
    "print(\"Number of edges:\", G.size())\n",
    "print(\"Nodes:\", G.nodes, end=\"\\n\\n\")\n",
    "print(\"Edges:\", G.edges)\n",
    "print(\"\")"
   ]
  }
 ],
 "metadata": {
  "kernelspec": {
   "display_name": "Python 3.8.12 ('dl')",
   "language": "python",
   "name": "python3"
  },
  "language_info": {
   "codemirror_mode": {
    "name": "ipython",
    "version": 3
   },
   "file_extension": ".py",
   "mimetype": "text/x-python",
   "name": "python",
   "nbconvert_exporter": "python",
   "pygments_lexer": "ipython3",
   "version": "3.8.12"
  },
  "orig_nbformat": 4,
  "vscode": {
   "interpreter": {
    "hash": "e6c11a9d2db67a2aed634fe17f2f51f2d58f7723cccb278582f5e8dd70da4396"
   }
  }
 },
 "nbformat": 4,
 "nbformat_minor": 2
}
